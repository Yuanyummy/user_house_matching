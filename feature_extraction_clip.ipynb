{
 "cells": [
  {
   "cell_type": "code",
   "execution_count": 1,
   "id": "408b1200-9825-45be-856b-0674cdff8fa7",
   "metadata": {},
   "outputs": [],
   "source": [
    "from transformers import CLIPProcessor, CLIPModel\n",
    "from PIL import Image\n",
    "import requests\n",
    "import torch\n",
    "import os, glob\n",
    "import matplotlib.pyplot as plt\n",
    "from collections import defaultdict\n",
    "import pandas as pd\n",
    "import re\n",
    "from tqdm.notebook import tqdm\n",
    "import torch.nn.functional as F"
   ]
  },
  {
   "cell_type": "markdown",
   "id": "b7854063-e7c0-48dd-8dab-f70abcfe3290",
   "metadata": {},
   "source": [
    "## model loading"
   ]
  },
  {
   "cell_type": "code",
   "execution_count": 2,
   "id": "02a28b66-e3da-46c1-9780-d827dd9cd932",
   "metadata": {},
   "outputs": [
    {
     "name": "stdout",
     "output_type": "stream",
     "text": [
      "cuda:0\n"
     ]
    }
   ],
   "source": [
    "device = 'cuda:0' if torch.cuda.is_available() else 'cpu'\n",
    "print(device)"
   ]
  },
  {
   "cell_type": "code",
   "execution_count": 3,
   "id": "7b7874d0-c4c7-498d-9661-61339353acb9",
   "metadata": {},
   "outputs": [],
   "source": [
    "# Load the CLIP model\n",
    "model = CLIPModel.from_pretrained(\"openai/clip-vit-base-patch32\").to(device)\n",
    "processor = CLIPProcessor.from_pretrained(\"openai/clip-vit-base-patch32\")"
   ]
  },
  {
   "cell_type": "code",
   "execution_count": 4,
   "id": "72117eac-6bf8-4346-a29b-585976144a33",
   "metadata": {},
   "outputs": [],
   "source": [
    "# Load an image from a URL\n",
    "image_path = os.path.join('samples/demo_houses/A_105/A_105_1.jpg')\n",
    "image = Image.open(image_path)\n",
    "# plt.imshow(image)"
   ]
  },
  {
   "cell_type": "code",
   "execution_count": 7,
   "id": "f602ac40-7650-4aa8-9310-8e867f033ba3",
   "metadata": {},
   "outputs": [],
   "source": [
    "# Process the image and text\n",
    "inputs = processor(text=[\"この写真はルームです\"], images=image, return_tensors=\"pt\", padding=True).to(device)\n",
    "# Forward pass through CLIP\n",
    "outputs = model(**inputs)"
   ]
  },
  {
   "cell_type": "markdown",
   "id": "19b40c6d-2639-454d-99f4-5e13cd9e54b2",
   "metadata": {},
   "source": [
    "## testing output "
   ]
  },
  {
   "cell_type": "code",
   "execution_count": 8,
   "id": "7820bc62-1d7c-431f-9b62-b2888a6a6ea8",
   "metadata": {},
   "outputs": [],
   "source": [
    "# Extract image and text features\n",
    " # ---> see here: https://huggingface.co/transformers/v4.8.0/model_doc/clip.html#transformers.CLIPTextModel\n",
    "# features are after projection layers.\n",
    "# cls are before projection layers\n",
    "image_features = outputs.image_embeds\n",
    "text_features = outputs.text_embeds\n",
    "vision_model_cls = outputs.vision_model_output.pooler_output\n",
    "text_model_cls = outputs.text_model_output.pooler_output"
   ]
  },
  {
   "cell_type": "code",
   "execution_count": 9,
   "id": "ab3bf7bb-5c4f-48b1-87f9-0465cd593ec6",
   "metadata": {},
   "outputs": [
    {
     "name": "stdout",
     "output_type": "stream",
     "text": [
      "Image Features: torch.Size([1, 512])\n",
      "Text Features: torch.Size([1, 512])\n",
      "vision_model_output torch.Size([1, 768])\n",
      "text_model_output torch.Size([1, 512])\n"
     ]
    }
   ],
   "source": [
    "# check this for dimension: https://huggingface.co/transformers/v4.8.0/model_doc/clip.html#clipvisionconfig\n",
    "print(\"Image Features:\", image_features.shape) \n",
    "print(\"Text Features:\", text_features.shape)\n",
    "print('vision_model_output', vision_model_cls.shape)\n",
    "print('text_model_output', text_model_cls.shape)"
   ]
  },
  {
   "cell_type": "markdown",
   "id": "edf816fd-70bf-4691-81c5-b37097113b47",
   "metadata": {},
   "source": [
    "## image and text data loading + processing"
   ]
  },
  {
   "cell_type": "code",
   "execution_count": 10,
   "id": "1cad7147-a9a4-45b0-ad88-090de05fb264",
   "metadata": {},
   "outputs": [
    {
     "data": {
      "text/html": [
       "<div>\n",
       "<style scoped>\n",
       "    .dataframe tbody tr th:only-of-type {\n",
       "        vertical-align: middle;\n",
       "    }\n",
       "\n",
       "    .dataframe tbody tr th {\n",
       "        vertical-align: top;\n",
       "    }\n",
       "\n",
       "    .dataframe thead th {\n",
       "        text-align: right;\n",
       "    }\n",
       "</style>\n",
       "<table border=\"1\" class=\"dataframe\">\n",
       "  <thead>\n",
       "    <tr style=\"text-align: right;\">\n",
       "      <th></th>\n",
       "      <th>house_code</th>\n",
       "      <th>text</th>\n",
       "    </tr>\n",
       "  </thead>\n",
       "  <tbody>\n",
       "    <tr>\n",
       "      <th>0</th>\n",
       "      <td>A_0</td>\n",
       "      <td>美しく、暮らしやすい上質なデザインを重ねた家。「妻と娘のために家をつくりたい」という思いを胸...</td>\n",
       "    </tr>\n",
       "    <tr>\n",
       "      <th>1</th>\n",
       "      <td>A_1</td>\n",
       "      <td>子育てのためのアイデアがたくさんウッディ＆ナチュラルな二世帯住宅。豊かな自然に囲まれた爽やか...</td>\n",
       "    </tr>\n",
       "    <tr>\n",
       "      <th>2</th>\n",
       "      <td>A_2</td>\n",
       "      <td>趣味空間の設置や便利な家事動線など３世帯が楽しく快適に暮らせる住まい。Ｓさまご夫妻に、Ｓさま...</td>\n",
       "    </tr>\n",
       "    <tr>\n",
       "      <th>3</th>\n",
       "      <td>A_3</td>\n",
       "      <td>約40帖の大空間と借景を活かす大開口二世帯６人が暮らす快適な平屋の住まい。東日本大震災で家が...</td>\n",
       "    </tr>\n",
       "    <tr>\n",
       "      <th>4</th>\n",
       "      <td>A_4</td>\n",
       "      <td>「愛着のある土地で暮らしたい」と三世帯が同居する店舗併用住宅を建築。築50年ほどの家の建て替...</td>\n",
       "    </tr>\n",
       "    <tr>\n",
       "      <th>...</th>\n",
       "      <td>...</td>\n",
       "      <td>...</td>\n",
       "    </tr>\n",
       "    <tr>\n",
       "      <th>517</th>\n",
       "      <td>F_50</td>\n",
       "      <td>木のぬくもり感があふれる居心地のいい住まい。内と外が緩やかにつながります。板張りの天井や吹抜...</td>\n",
       "    </tr>\n",
       "    <tr>\n",
       "      <th>518</th>\n",
       "      <td>F_51</td>\n",
       "      <td>ゆとりある上質空間で家族が安心して暮らせる家。子ども達ものびのび遊んでいます。ゆったりとくつ...</td>\n",
       "    </tr>\n",
       "    <tr>\n",
       "      <th>519</th>\n",
       "      <td>F_52</td>\n",
       "      <td>開放感あふれる平屋。木のぬくもりが、家族の時間を心地よく包みます。吹抜けの開放感が心地いいリ...</td>\n",
       "    </tr>\n",
       "    <tr>\n",
       "      <th>520</th>\n",
       "      <td>F_53</td>\n",
       "      <td>家族や友人との時間を楽しむ住まい。土間やテラスもお気に入りです。テラスや庭へとつながる開放感...</td>\n",
       "    </tr>\n",
       "    <tr>\n",
       "      <th>521</th>\n",
       "      <td>F_54</td>\n",
       "      <td>吹抜けから光が降り注ぐ心地いい団らん空間。のびのびと過ごせるわが家です。ダイナミックな吹抜け...</td>\n",
       "    </tr>\n",
       "  </tbody>\n",
       "</table>\n",
       "<p>522 rows × 2 columns</p>\n",
       "</div>"
      ],
      "text/plain": [
       "    house_code                                               text\n",
       "0          A_0  美しく、暮らしやすい上質なデザインを重ねた家。「妻と娘のために家をつくりたい」という思いを胸...\n",
       "1          A_1  子育てのためのアイデアがたくさんウッディ＆ナチュラルな二世帯住宅。豊かな自然に囲まれた爽やか...\n",
       "2          A_2  趣味空間の設置や便利な家事動線など３世帯が楽しく快適に暮らせる住まい。Ｓさまご夫妻に、Ｓさま...\n",
       "3          A_3  約40帖の大空間と借景を活かす大開口二世帯６人が暮らす快適な平屋の住まい。東日本大震災で家が...\n",
       "4          A_4  「愛着のある土地で暮らしたい」と三世帯が同居する店舗併用住宅を建築。築50年ほどの家の建て替...\n",
       "..         ...                                                ...\n",
       "517       F_50  木のぬくもり感があふれる居心地のいい住まい。内と外が緩やかにつながります。板張りの天井や吹抜...\n",
       "518       F_51  ゆとりある上質空間で家族が安心して暮らせる家。子ども達ものびのび遊んでいます。ゆったりとくつ...\n",
       "519       F_52  開放感あふれる平屋。木のぬくもりが、家族の時間を心地よく包みます。吹抜けの開放感が心地いいリ...\n",
       "520       F_53  家族や友人との時間を楽しむ住まい。土間やテラスもお気に入りです。テラスや庭へとつながる開放感...\n",
       "521       F_54  吹抜けから光が降り注ぐ心地いい団らん空間。のびのびと過ごせるわが家です。ダイナミックな吹抜け...\n",
       "\n",
       "[522 rows x 2 columns]"
      ]
     },
     "execution_count": 10,
     "metadata": {},
     "output_type": "execute_result"
    }
   ],
   "source": [
    "# load df containing text info\n",
    "df_house_text = pd.read_csv('samples/demo_houses/scrapy_info_all_text.csv')\n",
    "df_house_text[['house_code', 'text']]"
   ]
  },
  {
   "cell_type": "code",
   "execution_count": 9,
   "id": "12ba4108-2f9b-47a0-bbb8-d52352773ce1",
   "metadata": {},
   "outputs": [
    {
     "name": "stdout",
     "output_type": "stream",
     "text": [
      "['samples/demo_houses/A_105/A_105_0.jpg', 'samples/demo_houses/A_105/A_105_1.jpg', 'samples/demo_houses/A_105/A_105_2.jpg', 'samples/demo_houses/A_105/A_105_3.jpg', 'samples/demo_houses/A_105/A_105_4.jpg']\n",
      "['プライバシーを大切にした縦割り型二世帯住宅', 'Ｍさま＆Ａさま邸は', '完全分離型の二世帯住宅', 'ご両親のMさまが住む実家を建て替えて', '娘さまご家族が同居されました', '縦割りのプランなので', '両世帯の生活時間やスタイルが違っても', 'お互いの生活音が気にならず', '気兼ねなく暮らせます', '「ときどきワインを手に親世帯を訪ね', '父の手料理を楽しんでいます」と幸せそうに語る娘さまご夫妻です', 'デザインタイルの壁をアクセントに生かした子世帯のモダンなLDK', '白をベースにした明るくシンプルモダンな住空間を', '光沢を放つ濃い色のフローリングで引き締めた子世帯のLDK', '壁掛けテレビの左右に配したモダンなダークグレーのデザインタイル壁がインテリアを引き立てています', 'キッチンは前のカウンターを高くして', 'リビングから内部が見えないようにしています', '天然石調のアクセント壁が映える玄関ホール', '大理石調フロアも収納扉も「白」ですっきりと美しくコーディネートした子世帯の玄関ホール', '天然石調の調湿壁材を貼ったグレーのアクセント壁が', '照明に照らされて気品を放っています', 'リビングにしつらえた小上がりスペースはお子さま達の遊び場', '子世帯のLDKの一角には', '4畳半大の小上がりスペースをしつらえました', 'タイルカーペットは汚れが目立たず', 'お子さまの遊び場にぴったり', '「カウンターにお雛様や五月人形を飾れるようになったのもうれしいですね」とAさま', '広々とした子ども部屋は将来2部屋にできるプラン', '小さいうちは', 'みんなで伸びやかに遊べるよう', '子ども部屋は広々としたワンルームに', '将来は２部屋に間仕切りできるよう', 'あらかじめドア', '照明', '収納を2か所ずつ設けています', '会話が弾む親世帯のLDKご愛用の家具をきれいに収めました', 'お建て替え前と生活が変わらないように配慮した親世帯のLDK', '「ピアノも愛用の家具もサイズを測って', 'すべて上手に収めてもらえました」とご両親のMさまはお喜びです', 'お料理が得意なお父様は', '娘さまご家族を招いてご馳走を振る舞うことも多いそう', 'お孫さん達も大喜びです', '書庫とつながる趣味室でクラシック音楽を楽しむ心豊かな暮らし', 'クラシック好きのお父様のための趣味室', 'お手持ちの収納家具に', '膨大なCDやDVDをすっきりと収納', '趣味室から書庫を通って主寝室へとつながる動線も便利です', '夏は書庫の扉を開け放つと', '南側の窓から主寝室まで心地よい風が通り抜けます', '私たちの話を親身に聞いて', '我が家の家族構成や親子双方の生活スタイルをよく理解してくださったことが決め手でした', 'また', '提案プランに工夫があり', '子世帯の住まいからは子ども達が楽しく遊ぶ様子が浮かびましたし', '親世帯の住まいは庭に花を植えて楽しむことができるなど', '二世帯で快適に暮らす生活がイメージできました（Aさま）', '']\n"
     ]
    }
   ],
   "source": [
    "# use image path to find the text info\n",
    "house_image_dict = defaultdict(list) # dict key is house code, value is image path as a list\n",
    "house_text_dict = defaultdict(list) # dict is house code, value is a text list contains text scrapy from info sheet\n",
    "for path in glob.glob('samples/demo_houses/*'):\n",
    "    if os.path.isdir(path):\n",
    "        house_code = os.path.basename(path)\n",
    "        text =  df_house_text[df_house_text.house_code==house_code].text.iloc[0]\n",
    "        split_text = re.split(r'[。\\、]', text)\n",
    "        house_text_dict[house_code] = split_text\n",
    "        # print(house_text_dict[house_code])\n",
    "        house_image_dict[house_code] = (glob.glob(os.path.join(path, '*.jpg')))\n",
    "print(house_image_dict['A_105'])\n",
    "print(house_text_dict['A_105'])"
   ]
  },
  {
   "cell_type": "code",
   "execution_count": 10,
   "id": "00ab933a-9cb2-4367-87e5-76d245517d6a",
   "metadata": {},
   "outputs": [
    {
     "data": {
      "text/plain": [
       "['プライバシーを大切にした縦割り型二世帯住宅',\n",
       " 'Ｍさま＆Ａさま邸は',\n",
       " '完全分離型の二世帯住宅',\n",
       " 'ご両親のMさまが住む実家を建て替えて',\n",
       " '娘さまご家族が同居されました']"
      ]
     },
     "execution_count": 10,
     "metadata": {},
     "output_type": "execute_result"
    }
   ],
   "source": [
    " house_text_dict['A_105'][0:5]"
   ]
  },
  {
   "cell_type": "code",
   "execution_count": null,
   "id": "8d2786d3-623e-49a5-bee2-7602e47f3a20",
   "metadata": {},
   "outputs": [],
   "source": [
    "# save text for each houses \n"
   ]
  },
  {
   "cell_type": "markdown",
   "id": "aa759688-88b9-402b-96ff-623df6cdb432",
   "metadata": {},
   "source": [
    "##  extraction function def"
   ]
  },
  {
   "cell_type": "code",
   "execution_count": 35,
   "id": "2a3327a4-e3fb-464c-aa32-e16e669fcb4b",
   "metadata": {},
   "outputs": [],
   "source": [
    "# todo: here every time we loop for one image and one sentence of text, which is slow. in future we can do batch processing\n",
    "# set model to eval\n",
    "# inputs = processor(text=[\"この写真はルームです\"], images=image, return_tensors=\"pt\", padding=True).to(device)\n",
    "# outputs = model(**inputs)\n",
    "# vision_model_cls = outputs.vision_model_output.pooler_output\n",
    "# text_model_cls = outputs.text_model_output.pooler_output\n",
    "model.eval()\n",
    "\n",
    "# model = torch.compile(model)\n",
    "# get function return embedding after the internal projections\n",
    "def extract_vision_text_embeds(image_lst, text_lst, do_pooling=False, max_length=77):\n",
    "    # text\n",
    "    text_features = []\n",
    "    for text in text_lst:\n",
    "        text_inputs = processor(text=text, return_tensors=\"pt\", padding=True, truncation=True, max_length=max_length).to(device)\n",
    "        # print(text, len(text_inputs.input_ids[0]))\n",
    "        with torch.no_grad():\n",
    "            # feature_per_text = model.get_text_features(**text_inputs)\n",
    "            feature_per_text = model.text_model(**text_inputs).pooler_output\n",
    "        text_features.append(feature_per_text)\n",
    "    if do_pooling:\n",
    "        text_features = torch.concatenate(text_features, axis=0).mean(dim=0, keepdim=False)\n",
    "    # image part\n",
    "    image_features = []\n",
    "    for image in image_lst:\n",
    "        image = Image.open(image)\n",
    "        image_inputs = processor(images=image, return_tensors=\"pt\", padding=True).to(device)\n",
    "        with torch.no_grad():\n",
    "            # feature_per_image = model.get_image_features(**image_inputs)\n",
    "            feature_per_image = model.vision_model(**image_inputs).pooler_output\n",
    "        image_features.append(feature_per_image)\n",
    "    if do_pooling:\n",
    "        image_features = torch.concatenate(image_features, axis=0).mean(dim=0, keepdim=True) # keep batch_size dim\n",
    "    torch.cuda.empty_cache()\n",
    "    return image_features, text_features\n",
    "# print(image_features.shape, text_features.shape)"
   ]
  },
  {
   "cell_type": "code",
   "execution_count": 38,
   "id": "137fe3e2-6851-41b4-b14b-bb68561e9be3",
   "metadata": {},
   "outputs": [
    {
     "name": "stdout",
     "output_type": "stream",
     "text": [
      "['samples/demo_houses/A_105/A_105_0.jpg', 'samples/demo_houses/A_105/A_105_1.jpg', 'samples/demo_houses/A_105/A_105_2.jpg', 'samples/demo_houses/A_105/A_105_3.jpg', 'samples/demo_houses/A_105/A_105_4.jpg']\n",
      "torch.Size([1, 768]) torch.Size([1, 512])\n"
     ]
    }
   ],
   "source": [
    "image_feature, text_feature = extract_vision_text_embeds(house_image_dict['A_105'], house_text_dict['A_105'])\n",
    "print(house_image_dict['A_105'])\n",
    "print(image_feature[0].shape, text_feature[0].shape)"
   ]
  },
  {
   "cell_type": "markdown",
   "id": "f198e5dd-96af-46a0-ba16-b8486657d378",
   "metadata": {},
   "source": [
    "## actual feature extraction"
   ]
  },
  {
   "cell_type": "code",
   "execution_count": 40,
   "id": "72838b46-881d-4cd5-938c-fe88b941bb3d",
   "metadata": {},
   "outputs": [
    {
     "data": {
      "application/vnd.jupyter.widget-view+json": {
       "model_id": "3f79b3fd69734affa001a43195327f3b",
       "version_major": 2,
       "version_minor": 0
      },
      "text/plain": [
       "  0%|          | 0/38 [00:00<?, ?it/s]"
      ]
     },
     "metadata": {},
     "output_type": "display_data"
    }
   ],
   "source": [
    "save_dir = 'features_from_samples'\n",
    "do_pooling = False\n",
    "for key in tqdm(house_image_dict.keys()): \n",
    "    # key is house id, like A_XX\n",
    "    if key not in house_text_dict.keys():\n",
    "        print(f'key {key} found in image folder but not find in text info')\n",
    "    else:\n",
    "        image_feature_lst, text_feature_lst = extract_vision_text_embeds(house_image_dict[key], house_text_dict[key], do_pooling=do_pooling)\n",
    "        if do_pooling:\n",
    "            torch.save(image_feature_lst, os.path.join(save_dir, 'image_feature', f'image_embeds_{key}_all.pt'))\n",
    "            torch.save(text_feature_lst, os.path.join(save_dir, 'text_feature', f'text_embeds_{key}_all.pt'))\n",
    "        else:   \n",
    "            for i, image_feature in enumerate(image_feature_lst):\n",
    "                torch.save(image_feature, os.path.join(save_dir, 'image_feature', f'image_embeds_{key}_{i}.pt'))\n",
    "            for i, text_feature in enumerate(text_feature_lst):\n",
    "                torch.save(text_feature, os.path.join(save_dir, 'text_feature', f'text_embeds_{key}_{i}.pt'))"
   ]
  },
  {
   "cell_type": "markdown",
   "id": "4888aa17-d34b-40af-9bb1-d976fea8c77a",
   "metadata": {},
   "source": [
    "## support set feature extraction"
   ]
  },
  {
   "cell_type": "code",
   "execution_count": 44,
   "id": "3568a1fa-fc5a-4ef9-80ec-0def7b32a20e",
   "metadata": {},
   "outputs": [],
   "source": [
    "N = 3\n",
    "cold_modern_lst = [f'rawdata/download/japanese_cold_modern_{i}.jpg' for i in range(0, N)]\n",
    "warm_wooden_lst = [f'rawdata/download/japanese_warm_wooden_{i}.jpg' for i in range(0, N)]\n",
    "\n",
    "for i, image in enumerate(cold_modern_lst):\n",
    "    image_feature, text_feature = extract_vision_text_embeds([image], ['cold modern room'], do_pooling=False)\n",
    "    torch.save(image_feature[0], os.path.join(save_dir, 'support_set', f'image_embeds_cold_modern_{i}.pt'))\n",
    "    torch.save(text_feature[0], os.path.join(save_dir, 'support_set', f'text_embeds_cold_modern_{i}.pt'))\n",
    "for i, image in enumerate(warm_wooden_lst):\n",
    "    image_feature, text_feature = extract_vision_text_embeds([image], ['warm wooden room'], do_pooling=False)\n",
    "    torch.save(image_feature[0], os.path.join(save_dir, 'support_set', f'image_embeds_warm_wooden_{i}.pt'))\n",
    "    torch.save(text_feature[0], os.path.join(save_dir, 'support_set', f'text_embeds_warm_wooden_{i}.pt'))"
   ]
  },
  {
   "cell_type": "markdown",
   "id": "3e564329-1ef3-4462-b952-ddc100adbc8a",
   "metadata": {},
   "source": [
    "## load back tensors to check"
   ]
  },
  {
   "cell_type": "code",
   "execution_count": null,
   "id": "8bf9d3c4-562b-467e-93f7-4ffc2b0bd6b1",
   "metadata": {},
   "outputs": [],
   "source": [
    "key = 'A_105'\n",
    "image_embed = torch.load(os.path.join(save_dir, 'image_feature', f'image_embeds_{key}.pt'))\n",
    "text_embed =  torch.load(os.path.join(save_dir, 'text_feature', f'text_embeds_{key}.pt'))\n",
    "torch.set_printoptions(linewidth=200)"
   ]
  },
  {
   "cell_type": "code",
   "execution_count": 21,
   "id": "87188ba6-d59f-4e54-bc9d-36656d4a8c09",
   "metadata": {},
   "outputs": [
    {
     "name": "stdout",
     "output_type": "stream",
     "text": [
      "tensor([-3.7337e-01,  1.9003e-01, -6.9516e-02, -1.1457e-02,  1.9513e-01, -1.3157e-02,  1.7577e-01,  3.9134e-02,  4.2398e-01,  9.9946e-02,  3.9106e-03,  6.3825e-02,  4.3441e-01, -3.2335e-01,\n",
      "         2.6085e-01, -3.7312e-01, -8.3070e-01,  1.6355e-01,  9.0442e-02,  6.0854e-02,  4.1752e-01,  1.9539e-01,  1.2026e-01,  6.9418e-01,  6.0679e-02,  4.3729e-01,  2.6683e-01, -3.5112e-01,\n",
      "         2.7913e-02,  1.1667e-01,  2.8116e-01,  5.0979e-01, -5.0666e-02, -1.3630e-01, -6.8704e-02,  3.6805e-01, -1.0557e-01,  1.0120e-01,  2.9587e-01,  8.5541e-01, -1.6069e-01, -9.1950e-02,\n",
      "         3.1497e-01, -4.3999e-01, -1.2191e-01, -1.3662e+00, -2.5494e-01,  3.6645e-01, -7.0054e-03,  2.7787e-01,  9.2837e-02, -9.0491e-02,  3.3077e-01, -2.9311e-02, -1.7219e-01, -2.4799e-01,\n",
      "        -8.5293e-02, -2.2850e-01,  2.5233e-01,  1.2796e-01, -1.0885e+00,  7.8988e-02,  6.1063e-03, -1.7262e-01, -3.3622e-01, -6.8049e-02,  6.2376e-01,  1.6483e-01,  1.3143e-01,  9.4645e-02,\n",
      "        -1.4793e-01,  1.2977e-01, -5.9127e-02,  2.3214e-01,  1.0490e-01, -1.2886e-01, -1.4786e-01,  1.2616e-01,  7.4335e-02, -3.8276e-01,  1.2739e-01, -3.7001e-01,  1.7505e-02,  9.5437e-01,\n",
      "         2.4402e-02, -2.6961e-02,  1.0063e+00, -4.0368e-01, -5.9447e-01, -2.8840e-01,  3.3051e-01, -2.7399e-01, -6.2585e+00, -2.1904e-02, -2.8790e-01,  3.7330e-01,  3.5638e-01,  2.3438e-01,\n",
      "         1.4448e-01,  2.8955e-01, -1.0137e-01,  1.3410e-01, -6.9402e-02, -1.6620e-01,  1.1555e-01,  2.0379e-01, -9.1692e-01, -1.0905e-01,  1.4596e-01, -2.3187e-01, -4.0699e-01, -3.4485e-01,\n",
      "         4.4635e-02,  2.1371e-01,  2.7174e-01, -3.9004e-01,  6.7005e-02, -7.6161e-02,  2.7029e-01,  1.0969e-01,  1.7256e-01,  5.0234e-01,  2.4651e-01, -1.6650e-01, -1.2384e-01,  1.3254e-01,\n",
      "         6.5032e-02,  1.5039e-01, -3.0965e-01, -5.1717e-02,  2.9172e-01,  1.0030e-01, -7.7835e-02,  7.6924e-01,  1.5852e-01,  1.4234e-01,  4.5187e-02,  4.7893e-01, -1.8043e-01,  2.5608e-01,\n",
      "         3.0048e-01,  2.9124e-01,  3.4579e-01,  1.0903e-01,  1.2030e-01, -1.2412e-01, -1.0284e-01, -1.3722e-02, -2.7309e-01,  1.0808e-01, -1.2983e-01, -1.0149e-02,  7.0619e-01, -4.6643e-01,\n",
      "         2.1703e-01, -1.9152e-01, -1.7660e-01, -9.6449e-02,  2.7533e-02, -2.0351e-01, -1.0153e-01, -9.0832e-02, -1.0756e-01,  4.9946e-02, -1.8055e-01, -2.1676e-02,  3.8646e-02,  1.3688e-01,\n",
      "         1.7781e-01, -2.0749e-01,  8.8112e-02, -2.5037e-01, -3.4549e-01,  6.4295e-02, -4.0242e-02,  1.5788e-01,  6.4136e-01, -4.8583e-02, -3.3952e-01,  2.3237e-02, -8.2439e-02, -6.2968e-01,\n",
      "        -1.7543e-02, -2.7332e-02, -1.0841e-01,  4.2019e-02, -1.0681e-01, -7.0059e-02, -2.8248e-01, -4.3483e-02,  1.0810e-01, -3.1852e-01,  1.9704e-01, -4.9194e-02, -3.6158e-01,  1.8107e-02,\n",
      "         1.9477e-01,  2.0670e-01, -7.8796e-01,  1.7255e-01,  1.2047e-01,  4.6233e-02, -1.2038e-01,  2.3952e-01,  3.6568e-01,  4.9092e-02,  1.2805e-01, -1.2422e-01, -8.6834e-02,  2.5386e-01,\n",
      "        -1.6450e-01,  5.0354e-01,  1.2931e-01,  1.6447e-01, -1.6727e-01, -5.1555e-01,  1.1235e-01,  2.2563e-01,  1.1238e+00,  9.6759e-02,  3.1354e-01,  3.3968e-01,  4.9631e-02, -4.1681e-01,\n",
      "        -3.2487e-01,  3.0049e-01, -1.6465e-01, -8.4193e-03, -1.3325e-01,  1.2011e-01,  4.6814e-02,  3.9740e-02,  1.6499e-01,  6.8058e-01,  1.3191e-01,  4.5142e-01,  1.1998e-01,  3.9322e-02,\n",
      "        -3.5023e-01, -2.5342e-01, -2.0828e-01,  7.2236e-02,  5.6981e-02, -2.2429e-01, -2.9852e-01,  7.9056e-01, -8.4599e-02,  2.7153e-02,  9.8684e-05, -3.4125e-02,  1.5892e-01,  1.3377e-01,\n",
      "         1.4483e-01,  1.2977e-01, -1.2257e-01,  3.2415e-01,  1.6533e-01,  1.8530e-01,  6.5871e-01, -1.4570e-01,  4.0565e-02,  1.2058e-01,  3.5053e-01,  6.2042e-01,  2.0043e-01, -2.4548e-01,\n",
      "        -2.0409e-01,  3.0005e-01, -2.6294e-01,  1.1559e-01, -2.0613e-01,  1.0547e-01,  1.9501e-01,  8.8395e-02,  2.2251e-01, -3.0014e-01,  9.0637e-02, -3.1444e-01, -1.7701e-01, -2.0731e-01,\n",
      "         3.1668e-01,  1.2100e-01, -1.3230e-01,  2.4988e-01,  3.1705e-01, -1.1184e-01,  7.3299e-02, -1.2276e-02, -1.3471e-01, -2.4189e-01,  1.4509e-01,  1.5187e-01,  3.7137e-01,  8.8203e-02,\n",
      "        -5.8826e-01, -6.1248e-02, -2.0298e-01,  2.4605e-01, -2.1075e-01, -2.8491e-02, -2.6515e-01,  2.8152e-01, -3.0033e-02, -3.5654e-02,  3.2371e-01, -4.1092e-01, -7.9821e-02, -9.2718e-03,\n",
      "         4.2675e-01,  1.2363e-01, -6.9655e-02,  6.4603e-01,  7.6700e-01,  6.9302e-02, -1.7824e-01,  4.5358e-01,  5.5935e-01,  5.5225e-01, -7.9043e-02,  2.7464e-02,  4.3863e-01,  1.2370e+00,\n",
      "         2.0127e-02,  4.0239e-02,  1.3194e-01, -2.6369e-02,  3.0513e-01, -3.0852e-01,  2.5971e-03, -2.9728e-01, -8.9362e-02, -2.0629e-01,  2.3268e-02, -4.3079e-01, -2.5257e-01,  2.7248e-01,\n",
      "         3.2401e-01,  5.8204e-02,  6.2663e-02,  2.3508e-01, -7.9166e-02, -5.6486e-01, -5.7035e-02,  9.4759e-02,  1.4220e-01, -1.8417e-01, -7.7809e-02,  1.1767e-01, -4.4797e-03, -3.2636e-01,\n",
      "         4.2824e-01,  9.4921e-02, -2.3032e-01, -1.5041e-02,  1.2517e-01, -3.9436e-01, -1.2293e-02,  6.3450e-01, -7.4188e-04, -2.8450e-02, -8.8904e-01,  1.8913e-01,  2.1400e-01,  6.8559e-01,\n",
      "         4.0448e-01,  3.0151e-01, -9.6671e-02,  2.6394e-04, -1.9730e-01, -1.0114e-01,  2.6763e-01, -1.1210e-01,  1.4564e-01, -1.8908e-02,  1.4325e-01,  2.3434e-01,  1.2247e+00, -1.3096e-01,\n",
      "        -7.6057e-02,  2.0157e-01, -4.0612e-01, -6.2415e-01,  9.3534e-02,  1.2618e-02,  3.9896e-01, -8.0341e-01,  6.2361e-02, -1.3240e-01, -1.3625e-01,  5.6304e-01, -1.0505e-01,  5.8459e-01,\n",
      "        -4.1112e-04,  3.1812e-01, -5.3874e-01, -2.8893e-01, -2.6717e-02, -4.9878e-02,  7.3780e-01,  2.9588e-01, -5.1836e-02,  2.1943e-01,  1.0143e+00, -2.1367e-01,  2.2344e-01,  3.9552e-02,\n",
      "         9.5141e-02, -2.6736e-01, -1.7209e-01, -1.9714e-01, -8.4391e-02,  2.9564e-01,  1.5795e-01,  4.1370e-01, -2.0487e-01,  9.8413e-02, -4.1670e-01,  2.2849e-01, -4.5355e-01, -2.9989e-01,\n",
      "         2.8426e-01, -1.6399e-01,  3.2039e-01, -4.2610e-01, -2.7101e-01,  4.8644e-01, -1.8735e-01,  2.1909e-01, -2.2420e+00,  2.1104e-01,  1.1381e-01, -3.0051e-01,  9.9948e-01,  6.3640e-02,\n",
      "         1.8498e-01, -2.7530e-01, -5.6828e-02,  8.4528e-02, -1.6102e-02, -1.2710e-01, -3.7120e-01, -1.5613e-01,  3.3830e-02,  3.6660e-01,  7.5105e-02, -3.3867e-01, -6.9915e-02,  1.2970e-01,\n",
      "         2.9351e-02, -3.0750e-01,  5.1775e-01,  8.3210e-03, -6.3372e-02,  8.9004e-01,  8.8647e-02, -1.7490e-01,  3.2259e-01, -2.1142e-01,  7.8406e-02,  1.1455e-01, -1.5739e-01, -5.3048e-02,\n",
      "         3.8899e-02, -2.4793e-01, -5.0999e-02, -1.6038e-01,  4.4828e-02, -1.4498e-01, -4.4118e-01,  2.9140e-02, -1.5626e-02,  7.6734e-02,  2.4862e-01, -6.4672e-01,  5.9670e-02,  3.6120e-02,\n",
      "         5.6715e-02, -9.8140e-02,  1.3955e-01, -1.3080e-01, -4.1941e-02, -3.7462e-01,  3.3823e-02,  1.6748e-01,  4.6574e-01,  3.2539e-01, -1.9651e-01,  5.5238e-03, -1.0030e-02,  3.7391e-02,\n",
      "        -1.0853e-01, -2.3482e-02,  5.2170e-01, -4.6946e-01, -1.5622e-02,  1.4653e-01,  2.8045e-01,  3.0386e-01, -1.9500e-01,  1.0179e-01, -4.3149e-02, -3.1140e-01,  2.7124e-01,  3.4795e-01,\n",
      "         5.5990e-01, -8.4805e-02, -3.3712e-01,  6.8468e-02, -4.3846e-01,  5.7888e-01, -1.6002e-01, -1.0933e-01], device='cuda:0')\n",
      "torch.Size([512])\n"
     ]
    }
   ],
   "source": [
    "print(image_embed)\n",
    "print(image_embed.shape)"
   ]
  },
  {
   "cell_type": "code",
   "execution_count": 22,
   "id": "67c30065-3eb5-45ad-aa95-938f21f3b1b5",
   "metadata": {},
   "outputs": [
    {
     "name": "stdout",
     "output_type": "stream",
     "text": [
      "tensor([-2.7031e-01, -6.1202e-02,  3.1098e-02, -1.5160e-01,  2.5652e-01, -2.3826e-01,  2.8217e-02,  6.1855e-01, -5.3759e-02, -7.9562e-02, -2.6925e-01, -4.8184e-02,  1.2985e-02, -1.9597e-02,\n",
      "         2.7128e-01,  3.1973e-01, -1.3195e-01,  1.0630e-01,  1.7645e-01, -9.3786e-02, -7.2736e-01,  2.1005e-01, -2.4777e-02, -1.3696e-01, -2.3984e-01, -2.2531e-01, -2.1538e-01,  2.3163e-01,\n",
      "         5.3167e-02,  1.8508e-01, -3.0434e-01, -1.5426e-01,  1.8085e-01,  1.1121e-02,  2.6503e-01,  3.6078e-02, -1.5393e-01, -4.4108e-02,  8.9453e-02,  1.9732e-01, -2.3671e-01,  9.7554e-02,\n",
      "         1.8903e-01,  3.3739e-01, -1.0120e-02,  7.8481e-02, -8.1103e-02,  4.5570e-02, -3.4252e-02,  1.6429e-01,  3.0462e-01,  1.3976e-01,  2.9961e-02, -6.2817e-03,  1.6870e-01, -1.8154e-01,\n",
      "         3.6406e-01,  3.4184e-01,  8.1078e-02, -1.6566e-01,  4.3402e-01,  1.8811e-02, -1.7189e-01, -3.1717e-01,  1.2121e-02,  2.0171e-01,  1.0304e-01,  4.1010e-01,  3.1884e-01, -3.4952e-02,\n",
      "        -1.6302e-01, -3.7488e-02, -1.5225e-01,  3.4665e-01,  7.4105e-02,  1.2671e-01,  7.0353e-02, -5.0568e-02, -1.5202e-01, -5.8792e-02, -2.1883e-01, -3.7428e-01,  2.2148e-01,  9.8458e-02,\n",
      "        -2.1408e-01,  2.1452e-01,  1.4822e-01, -1.6916e-01,  2.3671e-01,  5.3270e-02,  2.2967e-01,  5.0243e-02, -1.3586e+00,  2.4783e-01,  1.3778e-01, -1.6681e-02, -1.4888e-01,  1.2111e-01,\n",
      "        -2.3560e-02,  3.1183e-01,  4.0054e-02, -1.1964e-01,  5.7115e-02, -6.4541e-02,  1.0757e-01,  9.5920e-02, -6.6095e-01, -7.5562e-02,  1.3410e-01, -7.2324e-02,  1.2652e-01, -6.4166e-02,\n",
      "        -1.2969e-01,  3.1569e-01, -5.3806e-02, -1.3195e-01,  3.1071e-03,  2.5753e-01,  5.5588e-02,  4.6329e-01, -1.1030e-01, -2.5245e-01,  3.7464e-03, -3.5232e-02,  1.6108e-01, -1.4841e-01,\n",
      "         8.6475e-02, -3.5557e-01, -3.0956e-01,  3.3327e-01, -1.2862e-01, -2.7926e-01, -2.0931e-01,  5.8844e+00,  2.0998e-01,  8.2308e-04,  3.1694e-02, -2.1129e-01, -4.7140e-01, -4.9748e-01,\n",
      "        -3.0182e-02, -1.5998e-01,  7.8657e-03,  2.1279e-02,  6.4356e-02,  1.3043e-01, -6.2234e-02,  6.4381e-02,  2.5698e-01,  2.7709e-03, -1.0437e-01,  7.1931e-02, -2.1783e-01, -6.7909e-02,\n",
      "         3.2700e-01,  6.4962e-02,  6.6221e-02, -6.0466e-02, -3.1243e-01, -1.8021e-01, -3.1995e-01,  3.0611e-02, -1.0291e-01, -7.5295e-02,  8.3955e-02, -2.3367e-01,  3.2242e-01, -1.0606e-01,\n",
      "         5.8159e-02,  4.2411e-01,  9.3679e-04, -8.3179e-03, -3.8367e-02,  6.1000e-03, -1.2214e-01, -7.0295e-02, -1.5528e-01,  1.0198e-01,  4.5460e-01,  2.5247e-01, -5.4841e-01, -5.9458e-02,\n",
      "        -7.1525e-03,  3.8989e-02,  2.0081e-01,  4.6149e-02,  2.6101e-01, -1.4107e-01,  2.3475e-01,  2.2921e-01, -8.1749e-03, -1.6998e-01,  1.3245e-01, -2.6035e-02, -8.7664e-03,  5.8218e-02,\n",
      "         2.7763e-02,  3.1623e-01,  1.0813e-01,  1.0056e-01,  2.0413e-01, -2.1563e-01, -5.9743e-02,  9.4146e-02, -1.1743e-01,  6.5586e-02,  3.2130e-01,  1.9473e-02,  3.9180e-02,  4.3471e-02,\n",
      "         1.9888e-01,  1.2932e-01,  4.8719e-01, -2.6159e-01,  1.5053e-01,  1.2747e-01,  1.8953e-01, -1.0027e-01, -6.0390e-02, -3.0217e-01, -4.3113e-01, -2.7431e-01,  1.2617e-01,  1.0269e-02,\n",
      "         2.2576e-01, -2.1234e-01, -6.8920e-02,  2.1670e-01,  2.6371e-01, -1.4605e-01,  4.4995e-01,  3.2387e-01, -2.6125e-01, -2.9946e-02,  9.3165e-03,  2.7902e-01,  1.6319e-01,  3.0813e-02,\n",
      "        -3.5661e-01, -1.0312e-01,  2.4230e-01,  6.3963e-02, -3.4826e-01, -3.6745e-01,  1.2618e-01,  2.6565e-01, -5.7315e-02, -2.7659e-01, -2.4203e-01,  3.5603e-02, -3.5344e-01, -3.0615e-01,\n",
      "         1.1623e-01,  3.2049e-01, -1.3425e-01,  4.1408e-02,  3.3033e-02, -1.5827e-02, -6.4123e-02,  2.6542e-01,  1.0907e-01,  5.1946e-02,  2.3451e-01, -1.4188e-02, -1.2257e-01, -1.4312e-01,\n",
      "         8.8720e-02, -2.3263e-01, -1.4221e-01,  6.7324e-02, -4.0774e-01,  9.2373e-02,  1.7498e-01, -2.6218e-01,  1.8866e-01,  2.5826e-01, -1.4545e-01,  2.1019e-01, -1.0970e-01, -1.6267e-01,\n",
      "         8.5366e-02, -3.1560e-01,  4.9273e-01, -1.1080e-01, -3.5839e-02, -1.2506e-02, -9.6236e-02,  9.5068e-02,  9.0211e-03,  1.2772e-01,  1.4569e-01,  9.5667e-02, -8.1746e-04, -9.4537e-03,\n",
      "        -1.1918e-01, -1.5158e-01, -2.9763e-01,  1.0273e-01, -1.3077e-01, -2.2352e-01,  4.7327e-02,  1.2767e-01,  6.5902e-02, -4.3112e-01,  1.0067e-01,  6.3063e-02, -1.7971e-01, -1.0811e-01,\n",
      "         8.0064e-02,  2.1324e-01, -1.6681e-01, -2.4299e-01,  5.8892e+00, -7.1025e-02,  2.3864e-01,  2.1884e-01, -7.0856e-02,  9.7757e-01, -1.0773e-01,  1.0912e-01, -1.6014e-02,  4.6811e-01,\n",
      "         3.9392e-01,  1.5451e-01, -2.2493e-01, -5.8678e-02,  1.9797e-01, -5.1880e-02,  4.0284e-02, -9.7154e-01,  1.3289e-01, -3.1440e-02, -1.5637e-01, -7.6297e-02, -1.1924e-01, -1.1247e-01,\n",
      "         2.2296e-01, -5.5654e-02,  9.5178e-02, -6.0003e-02, -3.6170e-01,  1.7825e-02,  5.5553e-02, -1.4823e-01, -4.4353e-02, -9.5137e-02, -8.1994e-02, -4.9827e-02, -1.2703e-02, -9.5143e-02,\n",
      "         2.3854e-02, -2.9375e-01, -3.6887e-01,  3.2136e-01, -7.2338e-02,  9.3367e-02, -4.3736e-02,  2.9374e-02,  1.8637e-01, -1.7338e-01, -4.1871e-01, -2.6089e-01,  3.0104e-01,  3.7249e-01,\n",
      "        -1.7988e-01, -8.0442e-02, -4.3824e-02, -9.2034e-02, -8.3532e-02, -9.2498e-02, -1.0017e-01,  1.1662e-01, -1.5386e-01,  1.4626e-01, -1.1391e-01, -1.7407e-01,  2.2423e-01, -6.4327e-02,\n",
      "        -4.7852e-01, -1.0853e-01, -8.9603e-02,  2.8111e-01,  8.7217e-03,  2.8231e-02, -3.2029e-02,  8.7596e-04, -3.8456e-01, -6.6314e-03,  2.7725e-01,  3.5431e-02, -3.5966e-01,  1.7618e-01,\n",
      "        -7.3376e-02, -2.6431e-01, -2.2496e-01,  1.6388e-01, -3.4014e-01, -5.8577e-03,  5.8820e-02,  8.4866e-01, -2.2625e-01,  1.0970e-01,  5.0501e-02,  5.4215e-01,  5.5541e-02,  2.1386e-01,\n",
      "        -2.9446e-02,  2.2554e-01, -4.0282e-01,  1.5253e-01,  2.6046e-01, -1.5395e-01,  9.8979e-02,  1.9409e-01, -1.6102e-01, -1.1188e-01,  6.2072e-02, -2.3516e-01, -1.0434e-02,  5.7970e-02,\n",
      "         1.7435e-01,  1.2781e-01,  2.5894e-01, -1.7773e-01, -8.2737e-03,  7.3171e-02,  2.1995e-04, -1.8071e-01, -3.1816e-01,  3.1770e-01,  1.3629e-01,  1.4288e-01, -8.4290e-02, -4.1220e-01,\n",
      "        -1.7657e-01, -1.4437e-01,  1.0213e-01, -1.7341e-01,  2.2755e-01, -1.3666e-01, -7.2186e-02, -2.7543e-01, -1.3203e-01, -1.0508e-02, -3.8487e-01, -2.0337e-02, -6.8527e-02, -1.9453e-01,\n",
      "         7.2105e-02,  1.4741e-01,  2.4457e-02, -1.2579e-01,  2.1659e-01,  3.2431e-01,  1.1257e-01,  3.3077e-01, -1.0452e-01,  2.8154e-01,  1.0488e-01,  1.2874e-01, -2.2916e-02, -2.9467e-02,\n",
      "        -2.1850e-01, -4.5155e-03, -1.2661e-01, -1.1919e-01, -8.3581e-03, -2.1846e-02, -1.5197e-01, -1.1072e-01, -2.3552e-01, -9.5173e-02,  3.3757e-01,  3.2602e-01, -1.6479e-01,  7.1898e-03,\n",
      "         3.7825e-02,  5.0911e-01,  4.0855e-02,  5.2568e-01,  1.5928e-01, -1.1508e+00, -6.9495e-02, -1.3499e-01, -7.4018e-02,  8.1020e-02,  1.0834e-01, -5.5685e-02, -1.3114e-01,  1.7173e-01,\n",
      "        -1.4612e-01,  8.3157e-02, -4.0358e-02, -1.4496e-01, -2.3513e-01, -3.5964e-02,  1.9402e-01, -2.2528e-01, -2.5458e-01,  9.1362e-02, -6.7633e-03,  2.9383e-02,  1.9674e-01,  6.7816e-02,\n",
      "         2.0238e-01,  1.8722e-01, -1.7282e-01, -1.2330e-01, -6.1788e-02, -7.0330e-01, -1.0509e-01,  3.3577e-02], device='cuda:0')\n",
      "torch.Size([512])\n"
     ]
    }
   ],
   "source": [
    "print(text_embed)\n",
    "print(text_embed.shape)"
   ]
  },
  {
   "cell_type": "code",
   "execution_count": 25,
   "id": "bc340f61-cb22-4f5a-b35e-18c12f7c1ced",
   "metadata": {},
   "outputs": [
    {
     "data": {
      "text/plain": [
       "tensor(0.2222, device='cuda:0')"
      ]
     },
     "execution_count": 25,
     "metadata": {},
     "output_type": "execute_result"
    }
   ],
   "source": [
    "cosine_sim = F.cosine_similarity(image_embed, text_embed, dim=0)\n",
    "cosine_sim"
   ]
  },
  {
   "cell_type": "code",
   "execution_count": null,
   "id": "6399331b-3296-4004-808a-d769ef758c4b",
   "metadata": {},
   "outputs": [],
   "source": []
  }
 ],
 "metadata": {
  "kernelspec": {
   "display_name": "pyds",
   "language": "python",
   "name": "pyds"
  },
  "language_info": {
   "codemirror_mode": {
    "name": "ipython",
    "version": 3
   },
   "file_extension": ".py",
   "mimetype": "text/x-python",
   "name": "python",
   "nbconvert_exporter": "python",
   "pygments_lexer": "ipython3",
   "version": "3.10.12"
  }
 },
 "nbformat": 4,
 "nbformat_minor": 5
}
